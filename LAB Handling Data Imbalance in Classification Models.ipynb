{
 "cells": [
  {
   "cell_type": "code",
   "execution_count": 1,
   "metadata": {},
   "outputs": [],
   "source": [
    "## Lab | Handling Data Imbalance in Classification Models\n",
    "\n",
    "    ## For this lab and in the next lessons we will build a model on customer churn binary classification problem. You will be using files_for_lab/Customer-Churn.csv file.\n",
    "\n",
    "## Scenario\n",
    "    ## You are working as an analyst with this internet service provider. You are provided with this historical data about your company's customers and their churn trends. Your task is to build a machine learning model that will help the company identify customers that are more likely to default/churn and thus prevent losses from such customers.\n",
    "\n",
    "## Instructions\n",
    "    ## In this lab, we will first take a look at the degree of imbalance in the data and correct it using the techniques we learned on the class.\n",
    "    ## Here is the list of steps to be followed (building a simple model without balancing the data):\n",
    "\n",
    "        ## Import the required libraries and modules that you would need.\n",
    "        ## Read that data into Python and call the dataframe churnData.\n",
    "        ## Check the datatypes of all the columns in the data. You would see that the column TotalCharges is object type. Convert this column into numeric type using pd.to_numeric function.\n",
    "        ## Check for null values in the dataframe. Replace the null values.\n",
    "        ## Use the following features: tenure, SeniorCitizen, MonthlyCharges and TotalCharges:\n",
    "            ## Scale the features either by using normalizer or a standard scaler.\n",
    "            ## Split the data into a training set and a test set.\n",
    "            ## Fit a logistic regression model on the training data.\n",
    "            ## Check the accuracy on the test data.\n",
    "        ## Note: So far we have not balanced the data.\n",
    "    ## Managing imbalance in the dataset\n",
    "        ## Check for the imbalance.\n",
    "        ## Use the resampling strategies used in class for upsampling and downsampling to create a balance between the two classes.\n",
    "        ## Each time fit the model and see how the accuracy of the model is."
   ]
  },
  {
   "cell_type": "code",
   "execution_count": 2,
   "metadata": {},
   "outputs": [],
   "source": [
    "import pandas as pd\n",
    "from sklearn.preprocessing import StandardScaler\n",
    "from sklearn.model_selection import train_test_split\n",
    "from sklearn.linear_model import LogisticRegression\n",
    "from sklearn.metrics import accuracy_score, precision_score, recall_score, f1_score\n",
    "from collections import Counter"
   ]
  },
  {
   "cell_type": "code",
   "execution_count": 8,
   "metadata": {},
   "outputs": [],
   "source": [
    "file_path = r\"C:\\Users\\rainm\\Documents\\Rodrigo\\Code bootcamp\\Ironhack\\Material\\Labs\\doing the LABs - by Rodrigo Pereira\\Customer-Churn.csv\"\n",
    "df = pd.read_csv(file_path)"
   ]
  },
  {
   "cell_type": "code",
   "execution_count": 9,
   "metadata": {},
   "outputs": [
    {
     "name": "stdout",
     "output_type": "stream",
     "text": [
      "Churn\n",
      "No     5174\n",
      "Yes    1869\n",
      "Name: count, dtype: int64\n"
     ]
    }
   ],
   "source": [
    "churn_distrubtion  = df['Churn'].value_counts()\n",
    "print(churn_distrubtion)"
   ]
  },
  {
   "cell_type": "code",
   "execution_count": 10,
   "metadata": {},
   "outputs": [
    {
     "name": "stdout",
     "output_type": "stream",
     "text": [
      "Unbalanced model :\n",
      "Accuracy : 0.8076650106458482\n",
      "Precision : 0.69921875\n",
      "Recall : 0.47989276139410186\n",
      "f1 : 0.5691573926868044\n",
      "********************************************\n",
      "Class distribution : Counter({0: 5174, 1: 1869})\n",
      "********************************************\n",
      "Upsampling model:\n",
      "Accuracy : 0.7323671497584541\n",
      "Precision : 0.7251908396946565\n",
      "Recall : 0.7407407407407407\n",
      "f1 : 0.7328833172613307\n",
      "********************************************\n",
      "downsampling model:\n",
      "Accuracy : 0.7553475935828877\n",
      "Precision : 0.7540983606557377\n",
      "Recall : 0.7479674796747967\n",
      "f1 : 0.7510204081632653\n"
     ]
    }
   ],
   "source": [
    "df['TotalCharges'] = pd.to_numeric(df['TotalCharges'], errors='coerce')\n",
    "\n",
    "df['TotalCharges'] = df['TotalCharges'].fillna(df['TotalCharges'].mean())\n",
    "\n",
    "features = ['tenure', 'SeniorCitizen', 'MonthlyCharges', 'TotalCharges']\n",
    "\n",
    "X = df[features]\n",
    "y = df['Churn'].apply(lambda x:1 if x == 'Yes' else 0)\n",
    "\n",
    "scaler = StandardScaler()\n",
    "X_scaled = scaler.fit_transform(X)\n",
    "\n",
    "X_train, X_test, y_train, y_test = train_test_split(X_scaled, y, test_size=0.2, random_state=42)\n",
    "\n",
    "model = LogisticRegression()\n",
    "model.fit(X_train, y_train)\n",
    "\n",
    "y_pred = model.predict(X_test)\n",
    "\n",
    "accuracy = accuracy_score(y_test, y_pred)\n",
    "precision = precision_score(y_test, y_pred)\n",
    "recall = recall_score(y_test, y_pred)\n",
    "f1 = f1_score(y_test, y_pred)\n",
    "\n",
    "print(\"Unbalanced model :\")\n",
    "print(f\"Accuracy : {accuracy}\")\n",
    "print(f\"Precision : {precision}\")\n",
    "print(f\"Recall : {recall}\")\n",
    "print(f\"f1 : {f1}\")\n",
    "\n",
    "print(\"********************************************\")\n",
    "\n",
    "class_distribution = Counter(y)\n",
    "print(f\"Class distribution : {class_distribution}\")\n",
    "print(\"********************************************\")\n",
    "\n",
    "\n",
    "# Upsampling\n",
    "\n",
    "churn_yes = df[df['Churn'] == 'Yes']\n",
    "churn_no = df[df['Churn'] == 'No']\n",
    "\n",
    "churn_yes_oversampled = churn_yes.sample(len(churn_no), replace=True, random_state=42)\n",
    "churn_oversampled = pd.concat([churn_no, churn_yes_oversampled])\n",
    "X_oversampled = churn_oversampled[features]\n",
    "y_oversampled = churn_oversampled['Churn'].apply(lambda x:1 if x == 'Yes' else 0)\n",
    "\n",
    "X_oversampled_scaled = scaler.fit_transform(X_oversampled)\n",
    "\n",
    "X_train_os, X_test_os, y_train_os, y_test_os = train_test_split(X_oversampled_scaled, y_oversampled, test_size=0.2, random_state=42)\n",
    "model_os = LogisticRegression()\n",
    "model_os.fit(X_train_os, y_train_os)\n",
    "y_pred_os = model_os.predict(X_test_os)\n",
    "\n",
    "accuracy_os = accuracy_score(y_test_os, y_pred_os)\n",
    "precision_os = precision_score(y_test_os, y_pred_os)\n",
    "recall_os = recall_score(y_test_os, y_pred_os)\n",
    "f1_os = f1_score(y_test_os, y_pred_os)\n",
    "\n",
    "print(\"Upsampling model:\")\n",
    "print(f\"Accuracy : {accuracy_os}\")\n",
    "print(f\"Precision : {precision_os}\")\n",
    "print(f\"Recall : {recall_os}\")\n",
    "print(f\"f1 : {f1_os}\")\n",
    "print(\"********************************************\")\n",
    "\n",
    "\n",
    "# downsampling \n",
    "\n",
    "churn_no_undersampled = churn_no.sample(len(churn_yes), random_state=42)\n",
    "churn_undersampled = pd.concat([churn_no_undersampled, churn_yes])\n",
    "X_undersampled = churn_undersampled[features]\n",
    "y_undersampled = churn_undersampled['Churn'].apply(lambda x:1 if x == 'Yes' else 0)\n",
    "X_undersampled_scaled = scaler.fit_transform(X_undersampled)\n",
    "\n",
    "X_train_us, X_test_us, y_train_us, y_test_us = train_test_split(X_undersampled_scaled, y_undersampled, test_size=0.2, random_state=42)\n",
    "\n",
    "model_us = LogisticRegression()\n",
    "model_us.fit(X_train_us, y_train_us)\n",
    "y_pred_us = model_us.predict(X_test_us)\n",
    "\n",
    "\n",
    "accuracy_us = accuracy_score(y_test_us, y_pred_us)\n",
    "precision_us = precision_score(y_test_us, y_pred_us)\n",
    "recall_us = recall_score(y_test_us, y_pred_us)\n",
    "f1_us = f1_score(y_test_us, y_pred_us)\n",
    "\n",
    "print(\"downsampling model:\")\n",
    "print(f\"Accuracy : {accuracy_us}\")\n",
    "print(f\"Precision : {precision_us}\")\n",
    "print(f\"Recall : {recall_us}\")\n",
    "print(f\"f1 : {f1_us}\")"
   ]
  },
  {
   "cell_type": "code",
   "execution_count": null,
   "metadata": {},
   "outputs": [],
   "source": []
  }
 ],
 "metadata": {
  "kernelspec": {
   "display_name": "Python 3",
   "language": "python",
   "name": "python3"
  },
  "language_info": {
   "codemirror_mode": {
    "name": "ipython",
    "version": 3
   },
   "file_extension": ".py",
   "mimetype": "text/x-python",
   "name": "python",
   "nbconvert_exporter": "python",
   "pygments_lexer": "ipython3",
   "version": "3.9.0"
  }
 },
 "nbformat": 4,
 "nbformat_minor": 2
}
